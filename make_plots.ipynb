{
 "cells": [
  {
   "cell_type": "code",
   "execution_count": 204,
   "metadata": {
    "collapsed": false
   },
   "outputs": [],
   "source": [
    "import matplotlib.pyplot as plt\n",
    "import matplotlib.dates as mdates\n",
    "from datetime import datetime, timedelta\n",
    "from pylab import savefig\n",
    "import time"
   ]
  },
  {
   "cell_type": "code",
   "execution_count": 185,
   "metadata": {
    "collapsed": false
   },
   "outputs": [
    {
     "name": "stdout",
     "output_type": "stream",
     "text": [
      "['uberX', 'uberXL', 'uberSELECT', 'UberBLACK', 'UberSUV']\n",
      "Time                          Marina_to_DNA                 Mission_to_Mission            Palo_Alto_to_Mission          Palo_Alto_to_Palo_Alto        DNA_to_Marina                 Mission_to_Palo_Alto          DNA_to_DNA                    Marina_to_Marina              \n",
      "\n",
      "['Time', 'Marina_to_DNA', 'Mission_to_Mission', 'Palo_Alto_to_Mission', 'Palo_Alto_to_Palo_Alto', 'DNA_to_Marina', 'Mission_to_Palo_Alto', 'DNA_to_DNA', 'Marina_to_Marina']\n"
     ]
    }
   ],
   "source": [
    "#infile = open('Surge_data_NYE_2015.txt','r')\n",
    "infile = open('Surge_data_Jan3_2016.txt','r')\n",
    "uber_types = infile.readline().split()\n",
    "uber_types = uber_types[len(uber_types)-5:len(uber_types)]\n",
    "print uber_types\n",
    "headers = infile.readline()\n",
    "print headers\n",
    "headers_list = headers.split()\n",
    "print headers_list\n",
    "data = infile.readlines()\n",
    "infile.close()"
   ]
  },
  {
   "cell_type": "code",
   "execution_count": 186,
   "metadata": {
    "collapsed": false
   },
   "outputs": [
    {
     "data": {
      "text/plain": [
       "'2016-01-03 02:16:50             1.0  1.0  1.0  1.0  1.0       1.0  1.0  1.0  1.0  1.0       1.0  1.0  0.0  1.0  1.0       1.0  1.0  0.0  1.0  1.0       1.0  1.0  1.0  1.0  1.0       1.0  1.0  1.0  1.0  1.0       1.0  1.0  1.0  1.0  1.0       1.0  1.0  1.0  1.0  1.0     \\n'"
      ]
     },
     "execution_count": 186,
     "metadata": {},
     "output_type": "execute_result"
    }
   ],
   "source": [
    "data[0]"
   ]
  },
  {
   "cell_type": "code",
   "execution_count": 168,
   "metadata": {
    "collapsed": false
   },
   "outputs": [
    {
     "data": {
      "text/plain": [
       "'2'"
      ]
     },
     "execution_count": 168,
     "metadata": {},
     "output_type": "execute_result"
    }
   ],
   "source": [
    "data[0][0]"
   ]
  },
  {
   "cell_type": "code",
   "execution_count": 174,
   "metadata": {
    "collapsed": false
   },
   "outputs": [
    {
     "data": {
      "text/plain": [
       "['2016-01-02',\n",
       " '08:46:10',\n",
       " '1.0',\n",
       " '1.0',\n",
       " '1.0',\n",
       " '1.0',\n",
       " '1.0',\n",
       " '1.0',\n",
       " '1.0',\n",
       " '1.0',\n",
       " '1.0',\n",
       " '1.0',\n",
       " '1.0',\n",
       " '1.0',\n",
       " '0.0',\n",
       " '1.0',\n",
       " '1.0',\n",
       " '1.0',\n",
       " '1.0',\n",
       " '0.0',\n",
       " '1.0',\n",
       " '1.0',\n",
       " '1.0',\n",
       " '1.0',\n",
       " '1.0',\n",
       " '1.0',\n",
       " '1.0',\n",
       " '1.0',\n",
       " '1.0',\n",
       " '1.0',\n",
       " '1.0',\n",
       " '1.0',\n",
       " '1.0',\n",
       " '1.0',\n",
       " '1.0',\n",
       " '1.0',\n",
       " '1.0',\n",
       " '1.0',\n",
       " '1.0',\n",
       " '1.0',\n",
       " '1.0',\n",
       " '1.0']"
      ]
     },
     "execution_count": 174,
     "metadata": {},
     "output_type": "execute_result"
    }
   ],
   "source": [
    "data[0].split()"
   ]
  },
  {
   "cell_type": "code",
   "execution_count": 75,
   "metadata": {
    "collapsed": false
   },
   "outputs": [
    {
     "data": {
      "text/plain": [
       "'1.0'"
      ]
     },
     "execution_count": 75,
     "metadata": {},
     "output_type": "execute_result"
    }
   ],
   "source": [
    "data[0].split()[2]"
   ]
  },
  {
   "cell_type": "code",
   "execution_count": 182,
   "metadata": {
    "collapsed": false
   },
   "outputs": [
    {
     "data": {
      "text/plain": [
       "'2016-01-03 01:13:34'"
      ]
     },
     "execution_count": 182,
     "metadata": {},
     "output_type": "execute_result"
    }
   ],
   "source": [
    "data[0].split()[0] + ' ' + data[0].split()[1]"
   ]
  },
  {
   "cell_type": "code",
   "execution_count": 187,
   "metadata": {
    "collapsed": false
   },
   "outputs": [
    {
     "data": {
      "text/plain": [
       "15"
      ]
     },
     "execution_count": 187,
     "metadata": {},
     "output_type": "execute_result"
    }
   ],
   "source": [
    "len(data)"
   ]
  },
  {
   "cell_type": "code",
   "execution_count": 181,
   "metadata": {
    "collapsed": true
   },
   "outputs": [],
   "source": [
    "for line in data:\n",
    "    data[0].split()[0] + ' ' + data[0].split()[1]"
   ]
  },
  {
   "cell_type": "code",
   "execution_count": null,
   "metadata": {
    "collapsed": true
   },
   "outputs": [],
   "source": [
    "data_dict[headers_list[0]][uber_types[0]]"
   ]
  },
  {
   "cell_type": "code",
   "execution_count": 188,
   "metadata": {
    "collapsed": false
   },
   "outputs": [],
   "source": [
    "data_dict = {}\n",
    "data_dict[headers_list[0]] = []\n",
    "for item in headers_list[1:len(headers_list)]:\n",
    "    data_dict[item] = {}\n",
    "    for uber_type in uber_types:\n",
    "        data_dict[item][uber_type] = []\n",
    "\n",
    "for line in data:\n",
    "    #print line\n",
    "    #clean_data.append(line.split())\n",
    "    dataline = line.split()\n",
    "    dataline[0:2] = [dataline[0] + ' ' + dataline[1]]\n",
    "    \n",
    "    data_dict[headers_list[0]].append(dataline[0])\n",
    "    for trip_index,trip in enumerate(headers_list[1:len(headers_list)]):\n",
    "        for uber_type_index,uber_type in enumerate(uber_types):\n",
    "            data_dict[trip][uber_type].append(dataline[trip_index*len(uber_types) + uber_type_index + 1])"
   ]
  },
  {
   "cell_type": "code",
   "execution_count": 189,
   "metadata": {
    "collapsed": false
   },
   "outputs": [
    {
     "data": {
      "text/plain": [
       "['2016-01-03 02:16:50',\n",
       " '2016-01-03 02:17:26',\n",
       " '2016-01-03 02:18:05',\n",
       " '2016-01-03 02:18:41',\n",
       " '2016-01-03 02:19:15',\n",
       " '2016-01-03 02:19:52',\n",
       " '2016-01-03 02:20:32',\n",
       " '2016-01-03 02:21:13',\n",
       " '2016-01-03 02:21:51',\n",
       " '2016-01-03 02:22:26',\n",
       " '2016-01-03 02:23:07',\n",
       " '2016-01-03 02:23:42',\n",
       " '2016-01-03 02:24:18',\n",
       " '2016-01-03 02:25:00',\n",
       " '2016-01-03 02:25:37']"
      ]
     },
     "execution_count": 189,
     "metadata": {},
     "output_type": "execute_result"
    }
   ],
   "source": [
    "data_dict[headers_list[0]]"
   ]
  },
  {
   "cell_type": "code",
   "execution_count": 190,
   "metadata": {
    "collapsed": false
   },
   "outputs": [
    {
     "name": "stdout",
     "output_type": "stream",
     "text": [
      "2016-01-03 02:16:50\n",
      "<type 'str'>\n"
     ]
    }
   ],
   "source": [
    "print data_dict[headers_list[0]][0]\n",
    "print type(data_dict[headers_list[0]][0])"
   ]
  },
  {
   "cell_type": "code",
   "execution_count": 192,
   "metadata": {
    "collapsed": false
   },
   "outputs": [
    {
     "data": {
      "text/plain": [
       "['1.0',\n",
       " '1.0',\n",
       " '1.0',\n",
       " '1.0',\n",
       " '1.0',\n",
       " '1.0',\n",
       " '1.0',\n",
       " '1.0',\n",
       " '1.0',\n",
       " '1.0',\n",
       " '1.0',\n",
       " '1.0',\n",
       " '1.0',\n",
       " '1.0',\n",
       " '1.0']"
      ]
     },
     "execution_count": 192,
     "metadata": {},
     "output_type": "execute_result"
    }
   ],
   "source": [
    "data_dict[headers_list[1]]['uberX']"
   ]
  },
  {
   "cell_type": "code",
   "execution_count": 193,
   "metadata": {
    "collapsed": false
   },
   "outputs": [
    {
     "data": {
      "text/plain": [
       "time.struct_time(tm_year=2016, tm_mon=1, tm_mday=3, tm_hour=2, tm_min=16, tm_sec=50, tm_wday=6, tm_yday=3, tm_isdst=-1)"
      ]
     },
     "execution_count": 193,
     "metadata": {},
     "output_type": "execute_result"
    }
   ],
   "source": [
    "strptime(data_dict[headers_list[0]][0],'%Y-%m-%d %H:%M:%S')"
   ]
  },
  {
   "cell_type": "code",
   "execution_count": 194,
   "metadata": {
    "collapsed": false
   },
   "outputs": [
    {
     "data": {
      "text/plain": [
       "datetime.datetime(2016, 1, 3, 2, 16, 50)"
      ]
     },
     "execution_count": 194,
     "metadata": {},
     "output_type": "execute_result"
    }
   ],
   "source": [
    "datetime.strptime(data_dict[headers_list[0]][0],'%Y-%m-%d %H:%M:%S')"
   ]
  },
  {
   "cell_type": "code",
   "execution_count": 196,
   "metadata": {
    "collapsed": false
   },
   "outputs": [],
   "source": [
    "for index,times in enumerate(data_dict[headers_list[0]]):\n",
    "    data_dict[headers_list[0]][index] = datetime.strptime(times,'%Y-%m-%d %H:%M:%S')"
   ]
  },
  {
   "cell_type": "code",
   "execution_count": 197,
   "metadata": {
    "collapsed": false
   },
   "outputs": [],
   "source": [
    "for index,times in enumerate(data_dict[headers_list[0]]):\n",
    "    data_dict[headers_list[0]][index] = times + timedelta(hours=16)"
   ]
  },
  {
   "cell_type": "code",
   "execution_count": 218,
   "metadata": {
    "collapsed": false
   },
   "outputs": [],
   "source": [
    "fig = plt.figure()\n",
    "#fig.suptitle('NYE 2015 Uber Surge multipliers', fontsize=14, fontweight='bold')\n",
    "fig.suptitle('Jan 2, 2016 - Uber Surge multipliers', fontsize=14, fontweight='bold')\n",
    "ax = fig.add_subplot(111)\n",
    "ax.set_xlabel('Time')\n",
    "ax.set_ylabel('Surge multiplier')\n",
    "plt.plot(data_dict[headers_list[0]], data_dict[headers_list[1]][uber_types[0]],label=headers_list[1]+' - '+uber_types[0])\n",
    "plt.plot(data_dict[headers_list[0]], data_dict[headers_list[2]][uber_types[0]],label=headers_list[2]+' - '+uber_types[0])\n",
    "plt.plot(data_dict[headers_list[0]], data_dict[headers_list[3]][uber_types[0]],label=headers_list[3]+' - '+uber_types[0])\n",
    "plt.plot(data_dict[headers_list[0]], data_dict[headers_list[4]][uber_types[0]],label=headers_list[4]+' - '+uber_types[0])\n",
    "plt.legend()\n",
    "ax.set_xlim(data_dict[headers_list[0]][0], data_dict[headers_list[0]][0] + timedelta(minutes=30))\n",
    "#ax.format_xdata = mdates.DateFormatter('%H:%M')\n",
    "plt.gcf().axes[0].xaxis.set_major_formatter(mdates.DateFormatter('%H:%M'))\n",
    "fig.autofmt_xdate()\n",
    "#savefig('Jan2_SF.png')\n",
    "plt.show()"
   ]
  },
  {
   "cell_type": "code",
   "execution_count": null,
   "metadata": {
    "collapsed": true
   },
   "outputs": [],
   "source": []
  }
 ],
 "metadata": {
  "kernelspec": {
   "display_name": "Python 2",
   "language": "python",
   "name": "python2"
  },
  "language_info": {
   "codemirror_mode": {
    "name": "ipython",
    "version": 2
   },
   "file_extension": ".py",
   "mimetype": "text/x-python",
   "name": "python",
   "nbconvert_exporter": "python",
   "pygments_lexer": "ipython2",
   "version": "2.7.10"
  }
 },
 "nbformat": 4,
 "nbformat_minor": 0
}
